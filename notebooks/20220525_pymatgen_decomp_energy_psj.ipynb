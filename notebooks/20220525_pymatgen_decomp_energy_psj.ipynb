{
 "cells": [
  {
   "cell_type": "markdown",
   "id": "fe09880b-d6b6-44ac-9d9e-683f69618c9c",
   "metadata": {},
   "source": [
    "## Pymatgen decomposition energy\n",
    "Pymatgen has code to compute the phase diagram for a composition, and use it to compute the decomposition energy\n",
    "- https://pymatgen.org/pymatgen.analysis.phase_diagram.html\n",
    "  - https://pymatgen.org/pymatgen.analysis.phase_diagram.html#pymatgen.analysis.phase_diagram.PhaseDiagram.get_decomp_and_e_above_hull\n",
    "\n",
    "See how it compares to the decomposition energy from our scripts"
   ]
  },
  {
   "cell_type": "code",
   "execution_count": 1,
   "id": "a1e357e3-0d02-45ed-9a49-494f5aeeba7c",
   "metadata": {},
   "outputs": [],
   "source": [
    "import numpy as np\n",
    "import pandas as pd\n",
    "\n",
    "import matplotlib.pyplot as plt\n",
    "import seaborn as sns\n",
    "sns.set(context='talk', style='ticks',\n",
    "        color_codes=True, rc={'legend.frameon': False})\n",
    "\n",
    "%matplotlib inline"
   ]
  },
  {
   "cell_type": "code",
   "execution_count": 2,
   "id": "ecb9ba66-aaf9-4794-873f-276f06b11e5a",
   "metadata": {},
   "outputs": [],
   "source": [
    "import os\n",
    "import sys\n",
    "import re\n",
    "import numpy as np\n",
    "import pandas as pd\n",
    "from tqdm.notebook import tqdm\n",
    "from pymatgen import core\n",
    "tqdm.pandas()"
   ]
  },
  {
   "cell_type": "code",
   "execution_count": 3,
   "id": "7dd549b9-17e9-4863-a27e-77eaff0af57a",
   "metadata": {},
   "outputs": [
    {
     "name": "stdout",
     "output_type": "stream",
     "text": [
      "1.20.1\n",
      "1.3.5\n",
      "2022.5.26\n"
     ]
    }
   ],
   "source": [
    "print(np.__version__)\n",
    "print(pd.__version__)\n",
    "print(core.__version__)"
   ]
  },
  {
   "cell_type": "code",
   "execution_count": 5,
   "id": "49f63535-63c9-4cd1-87c2-6618c3fb22e3",
   "metadata": {},
   "outputs": [],
   "source": [
    "from pymatgen.analysis.phase_diagram import PhaseDiagram, PDEntry\n",
    "from pymatgen.core.composition import Composition\n",
    "from pymatgen.core.periodic_table import Element"
   ]
  },
  {
   "cell_type": "code",
   "execution_count": 6,
   "id": "ae715331-20bd-47cd-b46c-aa90d582448e",
   "metadata": {},
   "outputs": [
    {
     "name": "stdout",
     "output_type": "stream",
     "text": [
      "\t12682 lines\n"
     ]
    },
    {
     "data": {
      "text/html": [
       "<div>\n",
       "<style scoped>\n",
       "    .dataframe tbody tr th:only-of-type {\n",
       "        vertical-align: middle;\n",
       "    }\n",
       "\n",
       "    .dataframe tbody tr th {\n",
       "        vertical-align: top;\n",
       "    }\n",
       "\n",
       "    .dataframe thead th {\n",
       "        text-align: right;\n",
       "    }\n",
       "</style>\n",
       "<table border=\"1\" class=\"dataframe\">\n",
       "  <thead>\n",
       "    <tr style=\"text-align: right;\">\n",
       "      <th></th>\n",
       "      <th>sortedformula</th>\n",
       "      <th>icsdnum</th>\n",
       "      <th>energyperatom</th>\n",
       "      <th>reduced_composition</th>\n",
       "      <th>energy</th>\n",
       "    </tr>\n",
       "  </thead>\n",
       "  <tbody>\n",
       "    <tr>\n",
       "      <th>0</th>\n",
       "      <td>Ag10Br3Te4</td>\n",
       "      <td>173116.0</td>\n",
       "      <td>-1.718985</td>\n",
       "      <td>Ag10Br3Te4</td>\n",
       "      <td>-29.222753</td>\n",
       "    </tr>\n",
       "    <tr>\n",
       "      <th>1</th>\n",
       "      <td>Ag11K1O16V4</td>\n",
       "      <td>391344.0</td>\n",
       "      <td>-4.797702</td>\n",
       "      <td>Ag11K1O16V4</td>\n",
       "      <td>-153.526475</td>\n",
       "    </tr>\n",
       "    <tr>\n",
       "      <th>2</th>\n",
       "      <td>Ag15Cl3P4S16</td>\n",
       "      <td>416586.0</td>\n",
       "      <td>-3.058555</td>\n",
       "      <td>Ag15Cl3P4S16</td>\n",
       "      <td>-116.225098</td>\n",
       "    </tr>\n",
       "    <tr>\n",
       "      <th>3</th>\n",
       "      <td>Ag16Ca6N1</td>\n",
       "      <td>78395.0</td>\n",
       "      <td>-1.655370</td>\n",
       "      <td>Ag16Ca6N1</td>\n",
       "      <td>-38.073520</td>\n",
       "    </tr>\n",
       "    <tr>\n",
       "      <th>4</th>\n",
       "      <td>Ag1Al1Li2</td>\n",
       "      <td>57330.0</td>\n",
       "      <td>-2.250116</td>\n",
       "      <td>Ag1Al1Li2</td>\n",
       "      <td>-9.000465</td>\n",
       "    </tr>\n",
       "    <tr>\n",
       "      <th>...</th>\n",
       "      <td>...</td>\n",
       "      <td>...</td>\n",
       "      <td>...</td>\n",
       "      <td>...</td>\n",
       "      <td>...</td>\n",
       "    </tr>\n",
       "    <tr>\n",
       "      <th>12677</th>\n",
       "      <td>Sn2Sr1Zn2</td>\n",
       "      <td>424108.0</td>\n",
       "      <td>-2.806786</td>\n",
       "      <td>Sn2Sr1Zn2</td>\n",
       "      <td>-14.033929</td>\n",
       "    </tr>\n",
       "    <tr>\n",
       "      <th>12678</th>\n",
       "      <td>Sn2Ta1</td>\n",
       "      <td>106077.0</td>\n",
       "      <td>-5.760835</td>\n",
       "      <td>Sn2Ta1</td>\n",
       "      <td>-17.282505</td>\n",
       "    </tr>\n",
       "    <tr>\n",
       "      <th>12679</th>\n",
       "      <td>Sn2Zr1</td>\n",
       "      <td>652857.0</td>\n",
       "      <td>-5.284548</td>\n",
       "      <td>Sn2Zr1</td>\n",
       "      <td>-15.853644</td>\n",
       "    </tr>\n",
       "    <tr>\n",
       "      <th>12680</th>\n",
       "      <td>Sn3Zn1Zr5</td>\n",
       "      <td>656298.0</td>\n",
       "      <td>-5.688491</td>\n",
       "      <td>Sn3Zn1Zr5</td>\n",
       "      <td>-51.196419</td>\n",
       "    </tr>\n",
       "    <tr>\n",
       "      <th>12681</th>\n",
       "      <td>Li2O1</td>\n",
       "      <td>642216.0</td>\n",
       "      <td>-4.767000</td>\n",
       "      <td>Li2O1</td>\n",
       "      <td>-14.301000</td>\n",
       "    </tr>\n",
       "  </tbody>\n",
       "</table>\n",
       "<p>12682 rows × 5 columns</p>\n",
       "</div>"
      ],
      "text/plain": [
       "      sortedformula   icsdnum  energyperatom reduced_composition      energy\n",
       "0        Ag10Br3Te4  173116.0      -1.718985          Ag10Br3Te4  -29.222753\n",
       "1       Ag11K1O16V4  391344.0      -4.797702         Ag11K1O16V4 -153.526475\n",
       "2      Ag15Cl3P4S16  416586.0      -3.058555        Ag15Cl3P4S16 -116.225098\n",
       "3         Ag16Ca6N1   78395.0      -1.655370           Ag16Ca6N1  -38.073520\n",
       "4         Ag1Al1Li2   57330.0      -2.250116           Ag1Al1Li2   -9.000465\n",
       "...             ...       ...            ...                 ...         ...\n",
       "12677     Sn2Sr1Zn2  424108.0      -2.806786           Sn2Sr1Zn2  -14.033929\n",
       "12678        Sn2Ta1  106077.0      -5.760835              Sn2Ta1  -17.282505\n",
       "12679        Sn2Zr1  652857.0      -5.284548              Sn2Zr1  -15.853644\n",
       "12680     Sn3Zn1Zr5  656298.0      -5.688491           Sn3Zn1Zr5  -51.196419\n",
       "12681         Li2O1  642216.0      -4.767000               Li2O1  -14.301000\n",
       "\n",
       "[12682 rows x 5 columns]"
      ]
     },
     "execution_count": 6,
     "metadata": {},
     "output_type": "execute_result"
    }
   ],
   "source": [
    "# Dataframe containing competing phases from NRELMatDB\n",
    "# available here: https://github.com/NREL/rlmolecule/blob/devel/examples/crystal_energy/inputs/competing_phases.csv\n",
    "competing_phases_file = \"/projects/rlmolecule/jlaw/rlmolecule/examples/crystal_energy/inputs/competing_phases.csv\"\n",
    "df_competing_phases = pd.read_csv(competing_phases_file)\n",
    "print(f\"\\t{len(df_competing_phases)} lines\")\n",
    "df_competing_phases['energy'] = (\n",
    "    df_competing_phases.energyperatom * \n",
    "    df_competing_phases.sortedformula.apply(lambda x: Composition(x).num_atoms)\n",
    ")\n",
    "df_competing_phases"
   ]
  },
  {
   "cell_type": "code",
   "execution_count": 7,
   "id": "e7aa951b-e5c8-4e78-8c81-a450ff0e9ed4",
   "metadata": {},
   "outputs": [],
   "source": [
    "# ---FERE reference chemical potentials- ferev2_chempot\n",
    "ferev2_chempot = {'Ag': -0.79, 'Al': -3.27, 'Al_anion': -3.55, 'As': -4.95, 'As_cation': -4.42, 'Au': -1.96, 'B': -6.73,\n",
    "                  'B_anion': -6.44, 'Ba': -1.44, 'Be': -3.50, 'Bi_cation': -4.22, 'Bi': -4.19, 'Br': -1.54, 'C': -8.94,\n",
    "                  'Ca': -1.78, 'Cd': -0.64, 'Cl': -1.74, 'Co': -4.67, 'Cr': -7.08, 'Cu': -1.87, 'F': -1.44, 'Fe': -6.00,\n",
    "                  'Ga': -2.53, 'Ge': -4.34, 'Ge_anion': -4.84, 'Hf': -7.38, 'Hg': -0.10, 'I': -1.53, 'In': -2.39,\n",
    "                  'Ir': -6.31, 'K': -0.79, 'La': -3.76, 'Li': -1.58, 'Mg': -1.23, 'Mo': -7.37, 'Mn': -6.86, 'N': -8.46,\n",
    "                  'Na': -1.02, 'Nb': -6.92, 'Ni': -3.65, 'O': -4.80, 'P': -5.17, 'P_cation': -5.14, 'Pb': -3.85,\n",
    "                  'Pb_anion': -4.29, 'Pd': -3.00, 'Pt': -3.88, 'Rb': -0.58, 'Rh': -4.66, 'Ru': -6.14, 'S': -4.01,\n",
    "                  'Sb_cation': -4.13, 'Sb': -4.16, 'Sc': -4.42, 'Se': -3.54, 'Si': -5.30, 'Si_anion': -5.40,\n",
    "                  'Sn': -3.87, 'Sn_anion': -3.71, 'Sr': -1.32, 'Ta': -8.82, 'Te': -3.18, 'Te_cation': -2.75,\n",
    "                  'Ti': -5.39, 'V': -6.40, 'W': -9.61, 'Y': -4.96, 'Zn': -0.94, 'Zr': -6.39}\n",
    "fere_entries = [PDEntry(e, energy) for e, energy in ferev2_chempot.items() if \"ion\" not in e]"
   ]
  },
  {
   "cell_type": "code",
   "execution_count": 8,
   "id": "8dc8da35-7014-4cdc-a362-2633788025b3",
   "metadata": {},
   "outputs": [
    {
     "data": {
      "application/vnd.jupyter.widget-view+json": {
       "model_id": "43e7ddf5646a4be1904b0f67cf2c3f64",
       "version_major": 2,
       "version_minor": 0
      },
      "text/plain": [
       "  0%|          | 0/12682 [00:00<?, ?it/s]"
      ]
     },
     "metadata": {},
     "output_type": "display_data"
    }
   ],
   "source": [
    "pd_entries = df_competing_phases.progress_apply(\n",
    "    lambda row: PDEntry(Composition(row.sortedformula),\n",
    "                        row.energy), \n",
    "    axis=1\n",
    ")"
   ]
  },
  {
   "cell_type": "code",
   "execution_count": 9,
   "id": "74e83b05-1ac6-476f-824a-e3c80254ae0c",
   "metadata": {},
   "outputs": [
    {
     "data": {
      "text/plain": [
       "0                 PDEntry : Ag1 with energy = -0.7900\n",
       "1                 PDEntry : Al1 with energy = -3.2700\n",
       "2                 PDEntry : As1 with energy = -4.9500\n",
       "3                 PDEntry : Au1 with energy = -1.9600\n",
       "4                  PDEntry : B1 with energy = -6.7300\n",
       "                             ...                     \n",
       "12735    PDEntry : Sn2 Sr1 Zn2 with energy = -14.0339\n",
       "12736        PDEntry : Sn2 Ta1 with energy = -17.2825\n",
       "12737        PDEntry : Sn2 Zr1 with energy = -15.8536\n",
       "12738    PDEntry : Sn3 Zn1 Zr5 with energy = -51.1964\n",
       "12739         PDEntry : Li2 O1 with energy = -14.3010\n",
       "Name: 0, Length: 12740, dtype: object"
      ]
     },
     "execution_count": 9,
     "metadata": {},
     "output_type": "execute_result"
    }
   ],
   "source": [
    "pd_entries = pd.concat([pd.Series(fere_entries), pd_entries]).reset_index()[0]\n",
    "pd_entries"
   ]
  },
  {
   "cell_type": "code",
   "execution_count": 10,
   "id": "0ddc3cde-f461-4a15-a2d1-733c43d15251",
   "metadata": {},
   "outputs": [
    {
     "data": {
      "text/plain": [
       "12740"
      ]
     },
     "execution_count": 10,
     "metadata": {},
     "output_type": "execute_result"
    }
   ],
   "source": [
    "len(pd_entries)"
   ]
  },
  {
   "cell_type": "code",
   "execution_count": 11,
   "id": "6e2566d7-ddb3-42dc-8963-e30c1af39c41",
   "metadata": {},
   "outputs": [
    {
     "data": {
      "text/plain": [
       "{Element Ag}"
      ]
     },
     "execution_count": 11,
     "metadata": {},
     "output_type": "execute_result"
    }
   ],
   "source": [
    "set(pd_entries[0].composition.elements)"
   ]
  },
  {
   "cell_type": "markdown",
   "id": "c52d13a8-5b07-47f7-9340-09975d49497a",
   "metadata": {},
   "source": [
    "### Compute the decomposition energy for many structures"
   ]
  },
  {
   "cell_type": "code",
   "execution_count": 12,
   "id": "6a31d31d-3fff-42ef-8312-cffe15fb1084",
   "metadata": {},
   "outputs": [
    {
     "data": {
      "text/html": [
       "<div>\n",
       "<style scoped>\n",
       "    .dataframe tbody tr th:only-of-type {\n",
       "        vertical-align: middle;\n",
       "    }\n",
       "\n",
       "    .dataframe tbody tr th {\n",
       "        vertical-align: top;\n",
       "    }\n",
       "\n",
       "    .dataframe thead th {\n",
       "        text-align: right;\n",
       "    }\n",
       "</style>\n",
       "<table border=\"1\" class=\"dataframe\">\n",
       "  <thead>\n",
       "    <tr style=\"text-align: right;\">\n",
       "      <th></th>\n",
       "      <th>decoration</th>\n",
       "      <th>numatoms</th>\n",
       "      <th>relaxedvolume</th>\n",
       "      <th>energyperatom</th>\n",
       "      <th>comp</th>\n",
       "      <th>id</th>\n",
       "      <th>decomp_energy</th>\n",
       "      <th>pred_energyperatom</th>\n",
       "      <th>pred_decomp_energy</th>\n",
       "    </tr>\n",
       "  </thead>\n",
       "  <tbody>\n",
       "    <tr>\n",
       "      <th>0</th>\n",
       "      <td>K1Sb1F6/K1Sb1F6_sg148_icsd_015343_1</td>\n",
       "      <td>8</td>\n",
       "      <td>132.81</td>\n",
       "      <td>-4.636</td>\n",
       "      <td>K1Sb1F6</td>\n",
       "      <td>K1Sb1F6_sg148_icsd_015343_1</td>\n",
       "      <td>0.00926</td>\n",
       "      <td>-4.608471</td>\n",
       "      <td>0.036789</td>\n",
       "    </tr>\n",
       "    <tr>\n",
       "      <th>1</th>\n",
       "      <td>Na1Hf1Hg1I7/Na1Hf1Hg1I7_sg9_icsd_060952_2</td>\n",
       "      <td>40</td>\n",
       "      <td>2016.09</td>\n",
       "      <td>-2.820</td>\n",
       "      <td>Na1Hf1Hg1I7</td>\n",
       "      <td>Na1Hf1Hg1I7_sg9_icsd_060952_2</td>\n",
       "      <td>0.04500</td>\n",
       "      <td>-2.620724</td>\n",
       "      <td>0.244000</td>\n",
       "    </tr>\n",
       "  </tbody>\n",
       "</table>\n",
       "</div>"
      ],
      "text/plain": [
       "                                  decoration  numatoms  relaxedvolume  \\\n",
       "0        K1Sb1F6/K1Sb1F6_sg148_icsd_015343_1         8         132.81   \n",
       "1  Na1Hf1Hg1I7/Na1Hf1Hg1I7_sg9_icsd_060952_2        40        2016.09   \n",
       "\n",
       "   energyperatom         comp                             id  decomp_energy  \\\n",
       "0         -4.636      K1Sb1F6    K1Sb1F6_sg148_icsd_015343_1        0.00926   \n",
       "1         -2.820  Na1Hf1Hg1I7  Na1Hf1Hg1I7_sg9_icsd_060952_2        0.04500   \n",
       "\n",
       "   pred_energyperatom  pred_decomp_energy  \n",
       "0           -4.608471            0.036789  \n",
       "1           -2.620724            0.244000  "
      ]
     },
     "execution_count": 12,
     "metadata": {},
     "output_type": "execute_result"
    }
   ],
   "source": [
    "df = pd.read_csv(\"/projects/rlmolecule/jlaw/crystal_outputs/2022-05-04/batt-icsd-volpred-KLiNa-no-halides-ScY/viz/pred_vs_dft_corrected.csv\", index_col=0)\n",
    "df.head(2)"
   ]
  },
  {
   "cell_type": "code",
   "execution_count": 14,
   "id": "8d11c44e-19e6-418e-9898-1656096257bf",
   "metadata": {},
   "outputs": [],
   "source": [
    "def compute_pymatgen_decomp_energy(row):\n",
    "    comp = Composition(row.comp)\n",
    "    \n",
    "    energy = row.energyperatom * comp.num_atoms\n",
    "    \n",
    "    entry = PDEntry(comp, energy)\n",
    "    elements = set(comp.elements)\n",
    "    curr_entries = [e for e in pd_entries \\\n",
    "                    if len(set(e.composition.elements) - elements) == 0]\n",
    "    \n",
    "    # adding the current composition to the phase diagram doesn't make a difference\n",
    "    # srt_comp = sort_comp(str_comp)[0]\n",
    "    # if srt_comp not in df_competing_phases.reduced_composition.values:\n",
    "        # curr_entries += [entry]\n",
    "    # print(f\"{len(curr_entries)} entries match an element\")\n",
    "    phase_diagram = PhaseDiagram(curr_entries, elements=elements)\n",
    "    decomp, decomp_energy = phase_diagram.get_decomp_and_e_above_hull(entry, allow_negative=True)\n",
    "    \n",
    "    return decomp_energy"
   ]
  },
  {
   "cell_type": "code",
   "execution_count": 15,
   "id": "dbbce68d-07f3-462c-9f69-c68b11b1b7f9",
   "metadata": {},
   "outputs": [
    {
     "data": {
      "application/vnd.jupyter.widget-view+json": {
       "model_id": "a51be78349464b748bc0091c8105e2e4",
       "version_major": 2,
       "version_minor": 0
      },
      "text/plain": [
       "  0%|          | 0/381 [00:00<?, ?it/s]"
      ]
     },
     "metadata": {},
     "output_type": "display_data"
    }
   ],
   "source": [
    "df2 = df.copy()\n",
    "df2.loc[:, 'pymatgen_decomp_energy'] = df2.progress_apply(compute_pymatgen_decomp_energy, axis=1)"
   ]
  },
  {
   "cell_type": "code",
   "execution_count": 16,
   "id": "a6e955d0-cb6a-48b6-8085-c4d2eda05399",
   "metadata": {},
   "outputs": [
    {
     "name": "stderr",
     "output_type": "stream",
     "text": [
      "*c* argument looks like a single numeric RGB or RGBA sequence, which should be avoided as value-mapping will have precedence in case its length matches with *x* & *y*.  Please use the *color* keyword-argument or provide a 2D array with a single row if you intend to specify the same RGB or RGBA value for all points.\n"
     ]
    },
    {
     "data": {
      "text/plain": [
       "<AxesSubplot:xlabel='decomp_energy', ylabel='pymatgen_decomp_energy'>"
      ]
     },
     "execution_count": 16,
     "metadata": {},
     "output_type": "execute_result"
    },
    {
     "data": {
      "image/png": "[encoded data removed]",
      "text/plain": [
       "<Figure size 432x288 with 1 Axes>"
      ]
     },
     "metadata": {
      "needs_background": "light"
     },
     "output_type": "display_data"
    }
   ],
   "source": [
    "df2.plot.scatter(x='decomp_energy', y='pymatgen_decomp_energy')"
   ]
  },
  {
   "cell_type": "code",
   "execution_count": 22,
   "id": "5a247dc0-ef8a-4c7a-8261-a35262ae0e8e",
   "metadata": {},
   "outputs": [],
   "source": [
    "df2['decomp_err'] = (df2.pymatgen_decomp_energy - df2.decomp_energy).abs()"
   ]
  },
  {
   "cell_type": "code",
   "execution_count": 24,
   "id": "1e6f1fb1-746c-485a-88fb-c093f7007440",
   "metadata": {},
   "outputs": [
    {
     "data": {
      "text/html": [
       "<div>\n",
       "<style scoped>\n",
       "    .dataframe tbody tr th:only-of-type {\n",
       "        vertical-align: middle;\n",
       "    }\n",
       "\n",
       "    .dataframe tbody tr th {\n",
       "        vertical-align: top;\n",
       "    }\n",
       "\n",
       "    .dataframe thead th {\n",
       "        text-align: right;\n",
       "    }\n",
       "</style>\n",
       "<table border=\"1\" class=\"dataframe\">\n",
       "  <thead>\n",
       "    <tr style=\"text-align: right;\">\n",
       "      <th></th>\n",
       "      <th>decoration</th>\n",
       "      <th>numatoms</th>\n",
       "      <th>relaxedvolume</th>\n",
       "      <th>energyperatom</th>\n",
       "      <th>comp</th>\n",
       "      <th>id</th>\n",
       "      <th>decomp_energy</th>\n",
       "      <th>pred_energyperatom</th>\n",
       "      <th>pred_decomp_energy</th>\n",
       "      <th>pymatgen_decomp_energy</th>\n",
       "      <th>decomp_err</th>\n",
       "    </tr>\n",
       "  </thead>\n",
       "  <tbody>\n",
       "    <tr>\n",
       "      <th>73</th>\n",
       "      <td>Li1Zn1P1/Li1Zn1P1_sg186_icsd_603171_3</td>\n",
       "      <td>24</td>\n",
       "      <td>374.30</td>\n",
       "      <td>-3.357</td>\n",
       "      <td>Li1Zn1P1</td>\n",
       "      <td>Li1Zn1P1_sg186_icsd_603171_3</td>\n",
       "      <td>-0.402662</td>\n",
       "      <td>-3.302149</td>\n",
       "      <td>-0.347811</td>\n",
       "      <td>-0.094243</td>\n",
       "      <td>0.308420</td>\n",
       "    </tr>\n",
       "    <tr>\n",
       "      <th>320</th>\n",
       "      <td>Li1Cd1P1/Li1Cd1P1_sg216_icsd_161714_4</td>\n",
       "      <td>12</td>\n",
       "      <td>230.09</td>\n",
       "      <td>-3.201</td>\n",
       "      <td>Li1Cd1P1</td>\n",
       "      <td>Li1Cd1P1_sg216_icsd_161714_4</td>\n",
       "      <td>-0.340978</td>\n",
       "      <td>-3.103680</td>\n",
       "      <td>-0.243658</td>\n",
       "      <td>-0.129075</td>\n",
       "      <td>0.211903</td>\n",
       "    </tr>\n",
       "  </tbody>\n",
       "</table>\n",
       "</div>"
      ],
      "text/plain": [
       "                                decoration  numatoms  relaxedvolume  \\\n",
       "73   Li1Zn1P1/Li1Zn1P1_sg186_icsd_603171_3        24         374.30   \n",
       "320  Li1Cd1P1/Li1Cd1P1_sg216_icsd_161714_4        12         230.09   \n",
       "\n",
       "     energyperatom      comp                            id  decomp_energy  \\\n",
       "73          -3.357  Li1Zn1P1  Li1Zn1P1_sg186_icsd_603171_3      -0.402662   \n",
       "320         -3.201  Li1Cd1P1  Li1Cd1P1_sg216_icsd_161714_4      -0.340978   \n",
       "\n",
       "     pred_energyperatom  pred_decomp_energy  pymatgen_decomp_energy  \\\n",
       "73            -3.302149           -0.347811               -0.094243   \n",
       "320           -3.103680           -0.243658               -0.129075   \n",
       "\n",
       "     decomp_err  \n",
       "73     0.308420  \n",
       "320    0.211903  "
      ]
     },
     "execution_count": 24,
     "metadata": {},
     "output_type": "execute_result"
    }
   ],
   "source": [
    "df2.sort_values(by='decomp_err', ascending=False).head(2)"
   ]
  }
 ],
 "metadata": {
  "kernelspec": {
   "display_name": "Python 3 (ipykernel)",
   "language": "python",
   "name": "python3"
  },
  "language_info": {
   "codemirror_mode": {
    "name": "ipython",
    "version": 3
   },
   "file_extension": ".py",
   "mimetype": "text/x-python",
   "name": "python",
   "nbconvert_exporter": "python",
   "pygments_lexer": "ipython3",
   "version": "3.8.12"
  }
 },
 "nbformat": 4,
 "nbformat_minor": 5
}
