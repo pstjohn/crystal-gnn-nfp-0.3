{
 "cells": [
  {
   "cell_type": "code",
   "execution_count": 25,
   "id": "d744193f-2470-4096-88a6-bfb6d501be02",
   "metadata": {},
   "outputs": [],
   "source": [
    "import gzip\n",
    "import json\n",
    "import re\n",
    "from pathlib import Path\n",
    "\n",
    "import numpy as np\n",
    "import pandas as pd\n",
    "from pymatgen.core import Structure\n",
    "from tqdm.auto import tqdm\n",
    "\n",
    "tqdm.pandas()\n",
    "\n",
    "structure_dir = Path(\"/projects/rlmolecule/jlaw/inputs/structures\")\n",
    "\n",
    "inputs_dir = Path(\"/projects/rlmolecule/pstjohn/crystal_inputs/\")\n",
    "volrelax_dir = Path(\"/projects/rlmolecule/pstjohn/volume_relaxation_outputs/\")\n",
    "\n",
    "\n",
    "def get_structures(filename):\n",
    "    with gzip.open(filename, \"r\") as f:\n",
    "        for key, structure_dict in tqdm(json.loads(f.read().decode()).items()):\n",
    "            structure = Structure.from_dict(structure_dict)\n",
    "            yield {\"id\": key, \"structure\": structure}\n",
    "\n",
    "\n",
    "battery_relaxed_file = Path(structure_dir, \"battery/battery_relaxed_structures.json.gz\")\n",
    "battery_unrelaxed_file = Path(structure_dir, \"battery/battery_unrelaxed_structures.json.gz\")\n",
    "battery_volrelaxed_file = Path(\"/projects/rlmolecule/jlaw/inputs/structures/battery/volrelax/battery_vol_rerelax_scf_structures.json.gz\")\n",
    "icsd_strcs_file = Path(structure_dir, \"icsd/icsd_structures.json.gz\")\n",
    "\n",
    "batt_energy_file = Path(structure_dir, 'battery/battery_relaxed_energies.csv')\n",
    "vol_energy_file = Path(volrelax_dir, \"20220504_volume_relaxed_energy.csv.gz\")\n",
    "icsd_energy_file = Path(structure_dir, \"icsd/icsd_energies.csv\")"
   ]
  },
  {
   "cell_type": "code",
   "execution_count": 5,
   "id": "62b7a00a-92a1-43c2-a326-e1c124da6850",
   "metadata": {},
   "outputs": [],
   "source": [
    "vol_energy = pd.read_csv(vol_energy_file)\n",
    "\n",
    "prashun_vol = pd.read_csv('/projects/rlmolecule/pgorai/vol-rerelax-scf/volrerelax_scf_energy.csv')\n",
    "vol_energy = vol_energy.append(\n",
    "    prashun_vol.rename(columns={'decoration': 'id', 'numatoms': 'num_sites', 'composition_type': 'comptype'})\n",
    ").drop(['composition', 'dls_volume'], axis=1)"
   ]
  },
  {
   "cell_type": "code",
   "execution_count": 6,
   "id": "57508452-a867-4046-80d6-f2e91bf16e3e",
   "metadata": {},
   "outputs": [],
   "source": [
    "batt_energy = pd.read_csv(Path(batt_energy_file))\n",
    "icsd_energy = pd.read_csv(icsd_energy_file)\n",
    "\n",
    "vol_energy['composition'] = vol_energy.id.str.extract('([a-zA-Z0-9]+)_')\n",
    "vol_energy['type'] = 'vol'\n",
    "batt_energy['type'] = 'relax'\n",
    "icsd_energy['type'] = 'icsd'"
   ]
  },
  {
   "cell_type": "code",
   "execution_count": 26,
   "id": "193155b1-8670-40c8-a830-7e7f0b4b88b8",
   "metadata": {},
   "outputs": [
    {
     "data": {
      "application/vnd.jupyter.widget-view+json": {
       "model_id": "c0f84314dcce44b9a533715f9869d3e0",
       "version_major": 2,
       "version_minor": 0
      },
      "text/plain": [
       "  0%|          | 0/67840 [00:00<?, ?it/s]"
      ]
     },
     "metadata": {},
     "output_type": "display_data"
    },
    {
     "data": {
      "application/vnd.jupyter.widget-view+json": {
       "model_id": "6dfe7698ccfa48c28224376c7e41873b",
       "version_major": 2,
       "version_minor": 0
      },
      "text/plain": [
       "  0%|          | 0/67840 [00:00<?, ?it/s]"
      ]
     },
     "metadata": {},
     "output_type": "display_data"
    },
    {
     "data": {
      "application/vnd.jupyter.widget-view+json": {
       "model_id": "ff2b33692a7a42e8b19bc8314f997268",
       "version_major": 2,
       "version_minor": 0
      },
      "text/plain": [
       "  0%|          | 0/7083 [00:00<?, ?it/s]"
      ]
     },
     "metadata": {},
     "output_type": "display_data"
    },
    {
     "data": {
      "application/vnd.jupyter.widget-view+json": {
       "model_id": "aeaa8c88f67447cda00ab48d4bef574d",
       "version_major": 2,
       "version_minor": 0
      },
      "text/plain": [
       "  0%|          | 0/16445 [00:00<?, ?it/s]"
      ]
     },
     "metadata": {},
     "output_type": "display_data"
    }
   ],
   "source": [
    "batt_structures = pd.DataFrame(get_structures(battery_relaxed_file))\n",
    "unrelaxed_structures = pd.DataFrame(get_structures(battery_unrelaxed_file))\n",
    "vol_structures = pd.DataFrame(get_structures(battery_volrelaxed_file))\n",
    "icsd_structures = pd.DataFrame(get_structures(icsd_strcs_file))"
   ]
  },
  {
   "cell_type": "code",
   "execution_count": 36,
   "id": "d8fba81d-0eb0-46e0-a557-82c96e6620d8",
   "metadata": {},
   "outputs": [
    {
     "name": "stdout",
     "output_type": "stream",
     "text": [
      "266.79110550669\n"
     ]
    },
    {
     "data": {
      "application/vnd.jupyter.widget-view+json": {
       "model_id": "2e6266896b514114af9b2343295fdacf",
       "version_major": 2,
       "version_minor": 0
      },
      "text/plain": [
       "  0%|          | 0/69510 [00:00<?, ?it/s]"
      ]
     },
     "metadata": {},
     "output_type": "display_data"
    },
    {
     "name": "stdout",
     "output_type": "stream",
     "text": [
      "484.8785392007747\n"
     ]
    }
   ],
   "source": [
    "vol_structures = unrelaxed_structures.append(vol_structures).drop_duplicates(subset='id', keep='first')\n",
    "\n",
    "vol_df = vol_structures.merge(vol_energy, on='id')\n",
    "print(vol_df.iloc[0].structure.volume)\n",
    "_ = vol_df.progress_apply(lambda x: x.structure.scale_lattice(x.volume), axis=1)\n",
    "print(vol_df.iloc[0].structure.volume)"
   ]
  },
  {
   "cell_type": "code",
   "execution_count": 40,
   "id": "c49681d9-4cee-407f-bcb3-f539668e169f",
   "metadata": {},
   "outputs": [],
   "source": [
    "merged = pd.concat([\n",
    "    icsd_structures.merge(icsd_energy, on='id'),\n",
    "    vol_df,\n",
    "    batt_structures.merge(batt_energy, on='id')\n",
    "])[['id', 'type', 'composition', 'energyperatom', 'structure']]"
   ]
  },
  {
   "cell_type": "code",
   "execution_count": 41,
   "id": "2119756e-c6a1-4cba-8d22-dd9491bf2d68",
   "metadata": {},
   "outputs": [
    {
     "data": {
      "application/vnd.jupyter.widget-view+json": {
       "model_id": "4d7b59fe4cee43af9072a0f3ecd6c331",
       "version_major": 2,
       "version_minor": 0
      },
      "text/plain": [
       "  0%|          | 0/153795 [00:00<?, ?it/s]"
      ]
     },
     "metadata": {},
     "output_type": "display_data"
    }
   ],
   "source": [
    "merged['volume'] = merged.structure.progress_apply(lambda x: x.volume)"
   ]
  },
  {
   "cell_type": "code",
   "execution_count": 44,
   "id": "b14dd198-e648-4c34-aea1-a00a9a7ed10b",
   "metadata": {},
   "outputs": [
    {
     "data": {
      "application/vnd.jupyter.widget-view+json": {
       "model_id": "5ac828116a06439cb92accacff98febb",
       "version_major": 2,
       "version_minor": 0
      },
      "text/plain": [
       "  0%|          | 0/153795 [00:00<?, ?it/s]"
      ]
     },
     "metadata": {},
     "output_type": "display_data"
    }
   ],
   "source": [
    "merged['num_sites'] = merged.structure.progress_apply(lambda x: x.num_sites)"
   ]
  },
  {
   "cell_type": "code",
   "execution_count": 46,
   "id": "b39355d5-f2de-40fd-8a14-b9e1151af7d7",
   "metadata": {},
   "outputs": [],
   "source": [
    "merged.dropna().reset_index(drop=True).to_pickle(Path(inputs_dir, \"20220603_all_structures.p\"))"
   ]
  },
  {
   "cell_type": "code",
   "execution_count": null,
   "id": "4b883f35-765c-40be-9a4a-d882a4ea88cc",
   "metadata": {},
   "outputs": [],
   "source": [
    "import sys"
   ]
  },
  {
   "cell_type": "code",
   "execution_count": null,
   "id": "6be20706-60a8-42e8-8be0-8b06af840e09",
   "metadata": {},
   "outputs": [],
   "source": [
    "%load_ext autoreload"
   ]
  },
  {
   "cell_type": "code",
   "execution_count": null,
   "id": "c4bd8e0c-0196-49e2-a29f-eb422bd3960c",
   "metadata": {},
   "outputs": [],
   "source": [
    "%autoreload 2\n",
    "sys.path.append('..')\n",
    "from preprocess import preprocessor, preprocess_s"
   ]
  },
  {
   "cell_type": "code",
   "execution_count": null,
   "id": "034a4f80-a286-4480-bf50-10ee491640b2",
   "metadata": {},
   "outputs": [],
   "source": [
    "merged['volume'] = merged.structure.progress_apply(lambda x: x.volume)"
   ]
  },
  {
   "cell_type": "code",
   "execution_count": null,
   "id": "2d0c4004-ac1e-4554-b40b-05578af6504c",
   "metadata": {},
   "outputs": [],
   "source": [
    "preprocessor(merged.iloc[0].structure)"
   ]
  },
  {
   "cell_type": "code",
   "execution_count": null,
   "id": "28fc1edd-79f5-47cd-82f1-715861b9b6c1",
   "metadata": {},
   "outputs": [],
   "source": []
  }
 ],
 "metadata": {
  "kernelspec": {
   "display_name": "Python 3 (ipykernel)",
   "language": "python",
   "name": "python3"
  },
  "language_info": {
   "codemirror_mode": {
    "name": "ipython",
    "version": 3
   },
   "file_extension": ".py",
   "mimetype": "text/x-python",
   "name": "python",
   "nbconvert_exporter": "python",
   "pygments_lexer": "ipython3",
   "version": "3.8.12"
  }
 },
 "nbformat": 4,
 "nbformat_minor": 5
}
