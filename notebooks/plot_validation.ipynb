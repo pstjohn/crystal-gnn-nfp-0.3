{
 "cells": [
  {
   "cell_type": "code",
   "execution_count": 1,
   "id": "a07dd398-baac-4de4-8c15-bf6b57635bc0",
   "metadata": {},
   "outputs": [],
   "source": [
    "import numpy as np\n",
    "import pandas as pd\n",
    "\n",
    "import matplotlib.pyplot as plt\n",
    "import seaborn as sns\n",
    "sns.set(context='talk', style='ticks',\n",
    "        color_codes=True, rc={'legend.frameon': False})\n",
    "\n",
    "%matplotlib inline"
   ]
  },
  {
   "cell_type": "code",
   "execution_count": 8,
   "id": "057d25d5-f7a4-4f83-8b7d-d86ed822413b",
   "metadata": {},
   "outputs": [],
   "source": [
    "energies = pd.read_csv('../20220512_icsd_and_battery/predicted_energies.csv.gz', index_col=0)\n",
    "volumes = pd.read_csv('../20220512_icsd_and_battery_vol/predicted_volumes.csv.gz', index_col=0)\n",
    "combined = pd.read_csv('../20220512_icsd_and_battery_combined/predicted_volumes.csv.gz', index_col=0)"
   ]
  },
  {
   "cell_type": "code",
   "execution_count": 9,
   "id": "dce4d389-fa5b-418d-a456-1477c2b6c8c4",
   "metadata": {},
   "outputs": [
    {
     "data": {
      "text/html": [
       "<div>\n",
       "<style scoped>\n",
       "    .dataframe tbody tr th:only-of-type {\n",
       "        vertical-align: middle;\n",
       "    }\n",
       "\n",
       "    .dataframe tbody tr th {\n",
       "        vertical-align: top;\n",
       "    }\n",
       "\n",
       "    .dataframe thead th {\n",
       "        text-align: right;\n",
       "    }\n",
       "</style>\n",
       "<table border=\"1\" class=\"dataframe\">\n",
       "  <thead>\n",
       "    <tr style=\"text-align: right;\">\n",
       "      <th>type</th>\n",
       "      <th>icsd</th>\n",
       "      <th>relax</th>\n",
       "      <th>vol</th>\n",
       "    </tr>\n",
       "    <tr>\n",
       "      <th>set</th>\n",
       "      <th></th>\n",
       "      <th></th>\n",
       "      <th></th>\n",
       "    </tr>\n",
       "  </thead>\n",
       "  <tbody>\n",
       "    <tr>\n",
       "      <th>test</th>\n",
       "      <td>0.037</td>\n",
       "      <td>0.027</td>\n",
       "      <td>0.049</td>\n",
       "    </tr>\n",
       "    <tr>\n",
       "      <th>test_composition</th>\n",
       "      <td>0.060</td>\n",
       "      <td>0.050</td>\n",
       "      <td>0.070</td>\n",
       "    </tr>\n",
       "    <tr>\n",
       "      <th>valid</th>\n",
       "      <td>0.035</td>\n",
       "      <td>0.027</td>\n",
       "      <td>0.050</td>\n",
       "    </tr>\n",
       "  </tbody>\n",
       "</table>\n",
       "</div>"
      ],
      "text/plain": [
       "type               icsd  relax    vol\n",
       "set                                  \n",
       "test              0.037  0.027  0.049\n",
       "test_composition  0.060  0.050  0.070\n",
       "valid             0.035  0.027  0.050"
      ]
     },
     "execution_count": 9,
     "metadata": {},
     "output_type": "execute_result"
    }
   ],
   "source": [
    "energies['energy_err'] = (energies['energyperatom'] - energies['energy_predicted']).abs()\n",
    "energies.groupby(['set', 'type']).energy_err.mean().unstack().round(3)"
   ]
  },
  {
   "cell_type": "code",
   "execution_count": 10,
   "id": "b9bb0817-98d6-44bb-9227-7094daca4daf",
   "metadata": {},
   "outputs": [
    {
     "data": {
      "text/html": [
       "<div>\n",
       "<style scoped>\n",
       "    .dataframe tbody tr th:only-of-type {\n",
       "        vertical-align: middle;\n",
       "    }\n",
       "\n",
       "    .dataframe tbody tr th {\n",
       "        vertical-align: top;\n",
       "    }\n",
       "\n",
       "    .dataframe thead th {\n",
       "        text-align: right;\n",
       "    }\n",
       "</style>\n",
       "<table border=\"1\" class=\"dataframe\">\n",
       "  <thead>\n",
       "    <tr style=\"text-align: right;\">\n",
       "      <th>type</th>\n",
       "      <th>icsd</th>\n",
       "      <th>relax</th>\n",
       "      <th>vol</th>\n",
       "    </tr>\n",
       "    <tr>\n",
       "      <th>set</th>\n",
       "      <th></th>\n",
       "      <th></th>\n",
       "      <th></th>\n",
       "    </tr>\n",
       "  </thead>\n",
       "  <tbody>\n",
       "    <tr>\n",
       "      <th>test</th>\n",
       "      <td>0.294</td>\n",
       "      <td>0.484</td>\n",
       "      <td>0.305</td>\n",
       "    </tr>\n",
       "    <tr>\n",
       "      <th>test_composition</th>\n",
       "      <td>0.822</td>\n",
       "      <td>0.587</td>\n",
       "      <td>0.435</td>\n",
       "    </tr>\n",
       "    <tr>\n",
       "      <th>valid</th>\n",
       "      <td>0.309</td>\n",
       "      <td>0.477</td>\n",
       "      <td>0.310</td>\n",
       "    </tr>\n",
       "  </tbody>\n",
       "</table>\n",
       "</div>"
      ],
      "text/plain": [
       "type               icsd  relax    vol\n",
       "set                                  \n",
       "test              0.294  0.484  0.305\n",
       "test_composition  0.822  0.587  0.435\n",
       "valid             0.309  0.477  0.310"
      ]
     },
     "execution_count": 10,
     "metadata": {},
     "output_type": "execute_result"
    }
   ],
   "source": [
    "volumes['vol_err'] = (volumes['volperatom'] - volumes['volume_predicted']).abs()\n",
    "volumes.groupby(['set', 'type']).vol_err.mean().unstack().round(3)"
   ]
  },
  {
   "cell_type": "code",
   "execution_count": 11,
   "id": "4bbe46bf-5e28-4a05-8da3-ddaf902607db",
   "metadata": {},
   "outputs": [
    {
     "data": {
      "text/html": [
       "<div>\n",
       "<style scoped>\n",
       "    .dataframe tbody tr th:only-of-type {\n",
       "        vertical-align: middle;\n",
       "    }\n",
       "\n",
       "    .dataframe tbody tr th {\n",
       "        vertical-align: top;\n",
       "    }\n",
       "\n",
       "    .dataframe thead th {\n",
       "        text-align: right;\n",
       "    }\n",
       "</style>\n",
       "<table border=\"1\" class=\"dataframe\">\n",
       "  <thead>\n",
       "    <tr style=\"text-align: right;\">\n",
       "      <th>type</th>\n",
       "      <th>icsd</th>\n",
       "      <th>relax</th>\n",
       "      <th>vol</th>\n",
       "    </tr>\n",
       "    <tr>\n",
       "      <th>set</th>\n",
       "      <th></th>\n",
       "      <th></th>\n",
       "      <th></th>\n",
       "    </tr>\n",
       "  </thead>\n",
       "  <tbody>\n",
       "    <tr>\n",
       "      <th>test</th>\n",
       "      <td>0.046</td>\n",
       "      <td>0.028</td>\n",
       "      <td>0.045</td>\n",
       "    </tr>\n",
       "    <tr>\n",
       "      <th>test_composition</th>\n",
       "      <td>0.071</td>\n",
       "      <td>0.057</td>\n",
       "      <td>0.073</td>\n",
       "    </tr>\n",
       "    <tr>\n",
       "      <th>valid</th>\n",
       "      <td>0.044</td>\n",
       "      <td>0.029</td>\n",
       "      <td>0.045</td>\n",
       "    </tr>\n",
       "  </tbody>\n",
       "</table>\n",
       "</div>"
      ],
      "text/plain": [
       "type               icsd  relax    vol\n",
       "set                                  \n",
       "test              0.046  0.028  0.045\n",
       "test_composition  0.071  0.057  0.073\n",
       "valid             0.044  0.029  0.045"
      ]
     },
     "execution_count": 11,
     "metadata": {},
     "output_type": "execute_result"
    }
   ],
   "source": [
    "combined['vol_err'] = (combined['volperatom'] - combined['volume_predicted']).abs()\n",
    "combined['energy_err'] = (combined['energyperatom'] - combined['energy_predicted']).abs()\n",
    "combined.groupby(['set', 'type']).energy_err.mean().unstack().round(3)"
   ]
  },
  {
   "cell_type": "code",
   "execution_count": 52,
   "id": "396b2881-dd3b-45b8-ad4b-0a38424d0663",
   "metadata": {},
   "outputs": [
    {
     "data": {
      "text/html": [
       "<div>\n",
       "<style scoped>\n",
       "    .dataframe tbody tr th:only-of-type {\n",
       "        vertical-align: middle;\n",
       "    }\n",
       "\n",
       "    .dataframe tbody tr th {\n",
       "        vertical-align: top;\n",
       "    }\n",
       "\n",
       "    .dataframe thead th {\n",
       "        text-align: right;\n",
       "    }\n",
       "</style>\n",
       "<table border=\"1\" class=\"dataframe\">\n",
       "  <thead>\n",
       "    <tr style=\"text-align: right;\">\n",
       "      <th>type</th>\n",
       "      <th>icsd</th>\n",
       "      <th>relax</th>\n",
       "      <th>vol</th>\n",
       "    </tr>\n",
       "    <tr>\n",
       "      <th>set</th>\n",
       "      <th></th>\n",
       "      <th></th>\n",
       "      <th></th>\n",
       "    </tr>\n",
       "  </thead>\n",
       "  <tbody>\n",
       "    <tr>\n",
       "      <th>test</th>\n",
       "      <td>0.322</td>\n",
       "      <td>0.517</td>\n",
       "      <td>0.357</td>\n",
       "    </tr>\n",
       "    <tr>\n",
       "      <th>test_composition</th>\n",
       "      <td>0.834</td>\n",
       "      <td>1.487</td>\n",
       "      <td>0.925</td>\n",
       "    </tr>\n",
       "    <tr>\n",
       "      <th>valid</th>\n",
       "      <td>0.328</td>\n",
       "      <td>0.534</td>\n",
       "      <td>0.356</td>\n",
       "    </tr>\n",
       "  </tbody>\n",
       "</table>\n",
       "</div>"
      ],
      "text/plain": [
       "type               icsd  relax    vol\n",
       "set                                  \n",
       "test              0.322  0.517  0.357\n",
       "test_composition  0.834  1.487  0.925\n",
       "valid             0.328  0.534  0.356"
      ]
     },
     "execution_count": 52,
     "metadata": {},
     "output_type": "execute_result"
    }
   ],
   "source": [
    "combined.groupby(['set', 'type']).vol_err.mean().unstack().round(3)"
   ]
  },
  {
   "cell_type": "code",
   "execution_count": 12,
   "id": "87b94de1-9e1a-4a7a-ab33-90537e70a526",
   "metadata": {},
   "outputs": [],
   "source": [
    "energies = pd.read_csv('../20220603_icsd_and_battery/predicted_energies.csv.gz', index_col=0)\n",
    "combined = pd.read_csv('../20220603_icsd_and_battery_combined/predicted_volumes.csv.gz', index_col=0)"
   ]
  },
  {
   "cell_type": "code",
   "execution_count": 24,
   "id": "47d01ed6-5b76-4bd1-ab17-51de07995cc1",
   "metadata": {},
   "outputs": [
    {
     "data": {
      "text/plain": [
       "(145877, 11)"
      ]
     },
     "execution_count": 24,
     "metadata": {},
     "output_type": "execute_result"
    }
   ],
   "source": [
    "energies.shape"
   ]
  },
  {
   "cell_type": "code",
   "execution_count": null,
   "id": "990b24f5-deca-47d6-b540-0226c4313c14",
   "metadata": {},
   "outputs": [],
   "source": []
  },
  {
   "cell_type": "code",
   "execution_count": 13,
   "id": "fbf5a411-4821-4253-a2ea-98184cf3c4b5",
   "metadata": {},
   "outputs": [
    {
     "data": {
      "text/html": [
       "<div>\n",
       "<style scoped>\n",
       "    .dataframe tbody tr th:only-of-type {\n",
       "        vertical-align: middle;\n",
       "    }\n",
       "\n",
       "    .dataframe tbody tr th {\n",
       "        vertical-align: top;\n",
       "    }\n",
       "\n",
       "    .dataframe thead th {\n",
       "        text-align: right;\n",
       "    }\n",
       "</style>\n",
       "<table border=\"1\" class=\"dataframe\">\n",
       "  <thead>\n",
       "    <tr style=\"text-align: right;\">\n",
       "      <th>type</th>\n",
       "      <th>icsd</th>\n",
       "      <th>relax</th>\n",
       "      <th>vol</th>\n",
       "    </tr>\n",
       "    <tr>\n",
       "      <th>set</th>\n",
       "      <th></th>\n",
       "      <th></th>\n",
       "      <th></th>\n",
       "    </tr>\n",
       "  </thead>\n",
       "  <tbody>\n",
       "    <tr>\n",
       "      <th>test</th>\n",
       "      <td>0.040</td>\n",
       "      <td>0.026</td>\n",
       "      <td>0.041</td>\n",
       "    </tr>\n",
       "    <tr>\n",
       "      <th>test_composition</th>\n",
       "      <td>0.058</td>\n",
       "      <td>0.041</td>\n",
       "      <td>0.078</td>\n",
       "    </tr>\n",
       "    <tr>\n",
       "      <th>valid</th>\n",
       "      <td>0.039</td>\n",
       "      <td>0.026</td>\n",
       "      <td>0.042</td>\n",
       "    </tr>\n",
       "  </tbody>\n",
       "</table>\n",
       "</div>"
      ],
      "text/plain": [
       "type               icsd  relax    vol\n",
       "set                                  \n",
       "test              0.040  0.026  0.041\n",
       "test_composition  0.058  0.041  0.078\n",
       "valid             0.039  0.026  0.042"
      ]
     },
     "execution_count": 13,
     "metadata": {},
     "output_type": "execute_result"
    }
   ],
   "source": [
    "energies['energy_err'] = (energies['energyperatom'] - energies['energy_predicted']).abs()\n",
    "energies.groupby(['set', 'type']).energy_err.mean().unstack().round(3)"
   ]
  },
  {
   "cell_type": "code",
   "execution_count": 14,
   "id": "5ccdda14-a44c-4fa8-b6f7-f40edfa1764c",
   "metadata": {},
   "outputs": [
    {
     "data": {
      "text/html": [
       "<div>\n",
       "<style scoped>\n",
       "    .dataframe tbody tr th:only-of-type {\n",
       "        vertical-align: middle;\n",
       "    }\n",
       "\n",
       "    .dataframe tbody tr th {\n",
       "        vertical-align: top;\n",
       "    }\n",
       "\n",
       "    .dataframe thead th {\n",
       "        text-align: right;\n",
       "    }\n",
       "</style>\n",
       "<table border=\"1\" class=\"dataframe\">\n",
       "  <thead>\n",
       "    <tr style=\"text-align: right;\">\n",
       "      <th>type</th>\n",
       "      <th>icsd</th>\n",
       "      <th>relax</th>\n",
       "      <th>vol</th>\n",
       "    </tr>\n",
       "    <tr>\n",
       "      <th>set</th>\n",
       "      <th></th>\n",
       "      <th></th>\n",
       "      <th></th>\n",
       "    </tr>\n",
       "  </thead>\n",
       "  <tbody>\n",
       "    <tr>\n",
       "      <th>test</th>\n",
       "      <td>0.037</td>\n",
       "      <td>0.026</td>\n",
       "      <td>0.047</td>\n",
       "    </tr>\n",
       "    <tr>\n",
       "      <th>test_composition</th>\n",
       "      <td>0.051</td>\n",
       "      <td>0.044</td>\n",
       "      <td>0.089</td>\n",
       "    </tr>\n",
       "    <tr>\n",
       "      <th>valid</th>\n",
       "      <td>0.035</td>\n",
       "      <td>0.026</td>\n",
       "      <td>0.048</td>\n",
       "    </tr>\n",
       "  </tbody>\n",
       "</table>\n",
       "</div>"
      ],
      "text/plain": [
       "type               icsd  relax    vol\n",
       "set                                  \n",
       "test              0.037  0.026  0.047\n",
       "test_composition  0.051  0.044  0.089\n",
       "valid             0.035  0.026  0.048"
      ]
     },
     "execution_count": 14,
     "metadata": {},
     "output_type": "execute_result"
    }
   ],
   "source": [
    "combined['vol_err'] = (combined['volperatom'] - combined['volume_predicted']).abs()\n",
    "combined['energy_err'] = (combined['energyperatom'] - combined['energy_predicted']).abs()\n",
    "combined.groupby(['set', 'type']).energy_err.mean().unstack().round(3)"
   ]
  },
  {
   "cell_type": "code",
   "execution_count": 16,
   "id": "e825957a-8c89-4a4b-a425-4e269fb47c5f",
   "metadata": {},
   "outputs": [],
   "source": [
    "import datashader as ds\n",
    "from datashader.mpl_ext import dsshow, alpha_colormap"
   ]
  },
  {
   "cell_type": "code",
   "execution_count": 17,
   "id": "b0170e48-070b-40fc-87d8-c1f6f894f6c4",
   "metadata": {},
   "outputs": [],
   "source": [
    "volumes.type = volumes.type.astype('category')\n",
    "energies.type = energies.type.astype('category')"
   ]
  },
  {
   "cell_type": "code",
   "execution_count": 20,
   "id": "fd75b97e-ce64-4268-96cd-e5ee5f0838fe",
   "metadata": {},
   "outputs": [],
   "source": [
    "# fig = plt.figure(figsize=(4,4))\n",
    "# ax = fig.add_subplot(111, aspect='equal', adjustable='datalim')\n",
    "\n",
    "# artist = dsshow(volumes,\n",
    "#        ds.Point('volume_predicted', 'volperatom'),\n",
    "#        ds.count_cat('type'),       \n",
    "#        cmap='Blues', norm='eq_hist', aspect='equal',\n",
    "#        x_range=(0, 70), y_range=(0, 70), ax=ax)\n",
    "\n",
    "# ax.set_xlabel('vol/atom, ML')\n",
    "# ax.set_ylabel('vol/atom, DFT')\n",
    "# ax.legend(handles=artist.get_legend_elements(), fontsize=13, loc='lower right')\n",
    "# sns.despine()"
   ]
  },
  {
   "cell_type": "code",
   "execution_count": 23,
   "id": "7fa56647-abc3-4cc4-b49d-78371775a091",
   "metadata": {},
   "outputs": [
    {
     "data": {
      "image/png": "[encoded data removed]",
      "text/plain": [
       "<Figure size 288x288 with 1 Axes>"
      ]
     },
     "metadata": {
      "needs_background": "light"
     },
     "output_type": "display_data"
    }
   ],
   "source": [
    "fig = plt.figure(figsize=(4,4))\n",
    "ax = fig.add_subplot(111, aspect='equal', adjustable='datalim')\n",
    "\n",
    "artist = dsshow(energies,\n",
    "       ds.Point('energy_predicted', 'energyperatom'),\n",
    "       ds.count_cat('type'),       \n",
    "       cmap='Blues', norm='eq_hist', aspect='equal',\n",
    "       x_range=(-12, 5), y_range=(-12, 5), ax=ax)\n",
    "\n",
    "ax.set_xlabel('eV/atom, ML')\n",
    "ax.set_ylabel('eV/atom, DFT')\n",
    "ax.legend(handles=artist.get_legend_elements(), fontsize=13, loc='lower right')\n",
    "sns.despine()"
   ]
  },
  {
   "cell_type": "code",
   "execution_count": 44,
   "id": "622e2525-45f5-42e6-a7e0-f3ce587eb93a",
   "metadata": {},
   "outputs": [],
   "source": [
    "import math\n",
    "import os\n",
    "import shutil\n",
    "from collections import Counter\n",
    "from pathlib import Path\n",
    "\n",
    "import nfp\n",
    "import numpy as np\n",
    "import pandas as pd\n",
    "import tensorflow as tf\n",
    "import tensorflow_addons as tfa\n",
    "from nfp.layers import RBFExpansion\n",
    "from sklearn.model_selection import train_test_split\n",
    "from tensorflow.keras import layers\n",
    "from tqdm.auto import tqdm\n",
    "\n",
    "import sys\n",
    "sys.path.append('..')\n",
    "from preprocess import preprocessor\n",
    "\n",
    "tqdm.pandas()\n",
    "\n",
    "inputs_dir = Path(\"/projects/rlmolecule/pstjohn/crystal_inputs/\")\n",
    "data = pd.read_pickle(Path(inputs_dir, \"20220603_outliers_removed.p\"))\n",
    "max_atomic_num = 84\n",
    "\n",
    "composition_set = data.composition.isin(\n",
    "    pd.Series(data.composition.unique()).sample(100, random_state=1)\n",
    ")\n",
    "test_composition = data[composition_set]\n",
    "train_composition = data[~composition_set]\n",
    "\n",
    "train, valid = train_test_split(\n",
    "    train_composition,\n",
    "    test_size=3000,\n",
    "    random_state=1,\n",
    "    stratify=train_composition[\"type\"],\n",
    ")\n",
    "\n",
    "valid, test = train_test_split(\n",
    "    valid,\n",
    "    test_size=0.5,\n",
    "    random_state=2,\n",
    "    stratify=valid[\"type\"],\n",
    ")"
   ]
  },
  {
   "cell_type": "code",
   "execution_count": 45,
   "id": "c75f7ecf-f8ab-43a8-833b-c81962b8d0b4",
   "metadata": {},
   "outputs": [],
   "source": [
    "data[\"set\"] = \"train\"\n",
    "data.loc[data.index.isin(valid.index), \"set\"] = \"valid\"\n",
    "data.loc[data.index.isin(test.index), \"set\"] = \"test\"\n",
    "data.loc[data.index.isin(test_composition.index), \"set\"] = \"test_composition\""
   ]
  },
  {
   "cell_type": "code",
   "execution_count": 46,
   "id": "550e84f0-57d1-46c0-99e0-4f4135f89642",
   "metadata": {},
   "outputs": [
    {
     "data": {
      "text/plain": [
       "train               141385\n",
       "valid                 1500\n",
       "test                  1500\n",
       "test_composition      1492\n",
       "Name: set, dtype: int64"
      ]
     },
     "execution_count": 46,
     "metadata": {},
     "output_type": "execute_result"
    }
   ],
   "source": [
    "data.set.value_counts()"
   ]
  }
 ],
 "metadata": {
  "kernelspec": {
   "display_name": "Python 3 (ipykernel)",
   "language": "python",
   "name": "python3"
  },
  "language_info": {
   "codemirror_mode": {
    "name": "ipython",
    "version": 3
   },
   "file_extension": ".py",
   "mimetype": "text/x-python",
   "name": "python",
   "nbconvert_exporter": "python",
   "pygments_lexer": "ipython3",
   "version": "3.8.12"
  }
 },
 "nbformat": 4,
 "nbformat_minor": 5
}
