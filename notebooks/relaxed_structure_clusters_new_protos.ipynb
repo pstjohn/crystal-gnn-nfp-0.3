{
 "cells": [
  {
   "cell_type": "code",
   "execution_count": 1,
   "id": "f5a177ab-0769-462e-b257-89dfbb14520b",
   "metadata": {},
   "outputs": [],
   "source": [
    "import numpy as np\n",
    "import pandas as pd\n",
    "\n",
    "import matplotlib.pyplot as plt\n",
    "import seaborn as sns\n",
    "sns.set(context='talk', style='ticks',\n",
    "        color_codes=True, rc={'legend.frameon': False})\n",
    "\n",
    "%matplotlib inline"
   ]
  },
  {
   "cell_type": "code",
   "execution_count": 16,
   "id": "81d434ba-087d-430f-a49d-494bed15ad3f",
   "metadata": {},
   "outputs": [],
   "source": [
    "from pathlib import Path\n",
    "\n",
    "inputs_dir = Path(\"/projects/rlmolecule/pstjohn/crystal_inputs/\")\n",
    "fingerprint_dir = Path(\"/projects/rlmolecule/pstjohn/crystal_fingerprints/\")\n",
    "\n",
    "data = pd.read_pickle(Path(inputs_dir, \"20220513_outliers_removed.p\"))\n",
    "fps = pd.read_parquet(Path(fingerprint_dir, 'battery_fingerprints_no_chem.parquet')).dropna()\n",
    "\n",
    "# drop a few relaxed crystals that were marked as outliers\n",
    "fps = fps[~(~fps.id.isin(data[data.type == 'relax'].id) & (fps.type == 'relaxed'))]"
   ]
  },
  {
   "cell_type": "code",
   "execution_count": 17,
   "id": "1c39d13a-0342-4165-b561-bfb92bf58227",
   "metadata": {},
   "outputs": [],
   "source": [
    "from sklearn.cluster import AgglomerativeClustering\n",
    "\n",
    "cluster = AgglomerativeClustering(affinity='cosine',\n",
    "                                  distance_threshold=0.001,\n",
    "                                  n_clusters=None,\n",
    "                                  linkage='single',\n",
    "                                  memory='/tmp/scratch/')\n",
    "\n",
    "cluster_labels = cluster.fit_predict(fps.drop(['id', 'type'], axis=1))"
   ]
  },
  {
   "cell_type": "code",
   "execution_count": 20,
   "id": "6daacaeb-e6f0-49c5-8149-1c7d5a9db2db",
   "metadata": {},
   "outputs": [],
   "source": [
    "clustered_structures = fps[['id', 'type']].copy()\n",
    "clustered_structures['cluster'] = cluster_labels"
   ]
  },
  {
   "cell_type": "code",
   "execution_count": 26,
   "id": "ac313e84-d594-4f2d-b8fa-62a6e4d8841a",
   "metadata": {},
   "outputs": [],
   "source": [
    "cluster_counts = clustered_structures.groupby('cluster').type.agg(['unique', 'count'])"
   ]
  },
  {
   "cell_type": "code",
   "execution_count": 71,
   "id": "f9a95082-3e7b-43f8-8402-18543452e78d",
   "metadata": {},
   "outputs": [],
   "source": [
    "relaxed_counts = cluster_counts[cluster_counts['unique'].astype(str) == \"['relaxed']\"]['count'].sort_values(ascending=False)"
   ]
  },
  {
   "cell_type": "code",
   "execution_count": 73,
   "id": "34ffaa34-572e-47f5-9cda-1827a96ab40b",
   "metadata": {},
   "outputs": [
    {
     "data": {
      "text/plain": [
       "cluster\n",
       "335     76\n",
       "7022    68\n",
       "1       53\n",
       "1698    46\n",
       "3683    41\n",
       "3488    37\n",
       "146     37\n",
       "7374    36\n",
       "412     35\n",
       "262     34\n",
       "Name: count, dtype: int64"
      ]
     },
     "execution_count": 73,
     "metadata": {},
     "output_type": "execute_result"
    }
   ],
   "source": [
    "relaxed_counts.head(10)"
   ]
  },
  {
   "cell_type": "code",
   "execution_count": 75,
   "id": "00117305-94f1-4cf6-a777-8fa4e499e935",
   "metadata": {},
   "outputs": [
    {
     "data": {
      "text/plain": [
       "0"
      ]
     },
     "execution_count": 75,
     "metadata": {},
     "output_type": "execute_result"
    }
   ],
   "source": [
    "(335)"
   ]
  },
  {
   "cell_type": "code",
   "execution_count": 48,
   "id": "b39181b0-6263-47f0-820a-b48bcc85aa21",
   "metadata": {},
   "outputs": [
    {
     "data": {
      "text/html": [
       "<div>\n",
       "<style scoped>\n",
       "    .dataframe tbody tr th:only-of-type {\n",
       "        vertical-align: middle;\n",
       "    }\n",
       "\n",
       "    .dataframe tbody tr th {\n",
       "        vertical-align: top;\n",
       "    }\n",
       "\n",
       "    .dataframe thead th {\n",
       "        text-align: right;\n",
       "    }\n",
       "</style>\n",
       "<table border=\"1\" class=\"dataframe\">\n",
       "  <thead>\n",
       "    <tr style=\"text-align: right;\">\n",
       "      <th></th>\n",
       "      <th>id</th>\n",
       "      <th>type</th>\n",
       "      <th>cluster</th>\n",
       "    </tr>\n",
       "  </thead>\n",
       "  <tbody>\n",
       "    <tr>\n",
       "      <th>4908</th>\n",
       "      <td>Mg1Cl2_sg166_icsd_024755_1</td>\n",
       "      <td>relaxed</td>\n",
       "      <td>335</td>\n",
       "    </tr>\n",
       "    <tr>\n",
       "      <th>5404</th>\n",
       "      <td>Mg1Br2_sg166_icsd_024755_1</td>\n",
       "      <td>relaxed</td>\n",
       "      <td>335</td>\n",
       "    </tr>\n",
       "    <tr>\n",
       "      <th>5688</th>\n",
       "      <td>Zn1I2_sg2_icsd_051572_1</td>\n",
       "      <td>relaxed</td>\n",
       "      <td>335</td>\n",
       "    </tr>\n",
       "    <tr>\n",
       "      <th>8683</th>\n",
       "      <td>Mg1Cl2_sg147_icsd_058847_1</td>\n",
       "      <td>relaxed</td>\n",
       "      <td>335</td>\n",
       "    </tr>\n",
       "    <tr>\n",
       "      <th>9360</th>\n",
       "      <td>Zn1Br2_sg143_icsd_200593_1</td>\n",
       "      <td>relaxed</td>\n",
       "      <td>335</td>\n",
       "    </tr>\n",
       "    <tr>\n",
       "      <th>...</th>\n",
       "      <td>...</td>\n",
       "      <td>...</td>\n",
       "      <td>...</td>\n",
       "    </tr>\n",
       "    <tr>\n",
       "      <th>64349</th>\n",
       "      <td>Zn1Sb2S6_sg148_icsd_078684_1</td>\n",
       "      <td>relaxed</td>\n",
       "      <td>335</td>\n",
       "    </tr>\n",
       "    <tr>\n",
       "      <th>65013</th>\n",
       "      <td>Mg1Br2_sg164_icsd_020745_1</td>\n",
       "      <td>relaxed</td>\n",
       "      <td>335</td>\n",
       "    </tr>\n",
       "    <tr>\n",
       "      <th>66990</th>\n",
       "      <td>Zn1I2_sg164_icsd_280743_1</td>\n",
       "      <td>relaxed</td>\n",
       "      <td>335</td>\n",
       "    </tr>\n",
       "    <tr>\n",
       "      <th>67903</th>\n",
       "      <td>Zn1Cl2_sg71_icsd_038274_1</td>\n",
       "      <td>relaxed</td>\n",
       "      <td>335</td>\n",
       "    </tr>\n",
       "    <tr>\n",
       "      <th>71382</th>\n",
       "      <td>Zn1Cl2_sg147_icsd_058847_1</td>\n",
       "      <td>relaxed</td>\n",
       "      <td>335</td>\n",
       "    </tr>\n",
       "  </tbody>\n",
       "</table>\n",
       "<p>76 rows × 3 columns</p>\n",
       "</div>"
      ],
      "text/plain": [
       "                                 id     type  cluster\n",
       "4908     Mg1Cl2_sg166_icsd_024755_1  relaxed      335\n",
       "5404     Mg1Br2_sg166_icsd_024755_1  relaxed      335\n",
       "5688        Zn1I2_sg2_icsd_051572_1  relaxed      335\n",
       "8683     Mg1Cl2_sg147_icsd_058847_1  relaxed      335\n",
       "9360     Zn1Br2_sg143_icsd_200593_1  relaxed      335\n",
       "...                             ...      ...      ...\n",
       "64349  Zn1Sb2S6_sg148_icsd_078684_1  relaxed      335\n",
       "65013    Mg1Br2_sg164_icsd_020745_1  relaxed      335\n",
       "66990     Zn1I2_sg164_icsd_280743_1  relaxed      335\n",
       "67903     Zn1Cl2_sg71_icsd_038274_1  relaxed      335\n",
       "71382    Zn1Cl2_sg147_icsd_058847_1  relaxed      335\n",
       "\n",
       "[76 rows x 3 columns]"
      ]
     },
     "execution_count": 48,
     "metadata": {},
     "output_type": "execute_result"
    }
   ],
   "source": [
    "clustered_structures[clustered_structures.cluster == 335]"
   ]
  },
  {
   "cell_type": "code",
   "execution_count": 85,
   "id": "20fa4f38-4071-45d5-b137-a211a2ee7846",
   "metadata": {},
   "outputs": [
    {
     "data": {
      "text/plain": [
       "94"
      ]
     },
     "execution_count": 85,
     "metadata": {},
     "output_type": "execute_result"
    }
   ],
   "source": [
    "(relaxed_counts >= 10).sum()"
   ]
  },
  {
   "cell_type": "code",
   "execution_count": 109,
   "id": "12373c2a-fbab-43ed-b2c6-edc5a149386d",
   "metadata": {},
   "outputs": [],
   "source": []
  },
  {
   "cell_type": "code",
   "execution_count": 83,
   "id": "d94555c6-7bcd-4e92-a0b7-dc6e55bed1f5",
   "metadata": {},
   "outputs": [],
   "source": [
    "new_protos = clustered_structures[\n",
    "    clustered_structures.cluster.isin(relaxed_counts[relaxed_counts >= 10].index)\n",
    "].sort_values('cluster', key=lambda xi: [relaxed_counts.index.get_loc(x) for x in xi]).drop('type', axis=1)"
   ]
  },
  {
   "cell_type": "code",
   "execution_count": 110,
   "id": "3c6ccf89-cde7-4bc3-a97a-82db3b471cb2",
   "metadata": {},
   "outputs": [
    {
     "data": {
      "text/plain": [
       "65"
      ]
     },
     "execution_count": 110,
     "metadata": {},
     "output_type": "execute_result"
    }
   ],
   "source": [
    "from pymatgen.core.composition import Composition\n",
    "\n",
    "new_protos['num_elem'] = (\n",
    "    new_protos.id.str.extract('([a-zA-Z0-9-]*)_')[0]\n",
    "    .apply(lambda x: len(Composition(x).elements))\n",
    ")\n",
    "\n",
    "len(new_protos[new_protos['num_elem'] > 2].cluster.unique())"
   ]
  },
  {
   "cell_type": "code",
   "execution_count": 111,
   "id": "d1f6ddd3-fa4e-4a79-afbd-c846ec0a3032",
   "metadata": {},
   "outputs": [],
   "source": [
    "new_protos[new_protos['num_elem'] > 2].to_csv('20220601_relaxed_prototypes.csv', index=False)"
   ]
  },
  {
   "cell_type": "code",
   "execution_count": 123,
   "id": "50f6a4e8-d612-409f-889f-7a2d67e22bae",
   "metadata": {},
   "outputs": [],
   "source": [
    "only_2 = new_protos.groupby('cluster').num_elem.unique().astype(str) == \"[2]\""
   ]
  },
  {
   "cell_type": "code",
   "execution_count": null,
   "id": "35dd642b-417b-4df6-8fa6-9db07956b41d",
   "metadata": {},
   "outputs": [],
   "source": [
    "only"
   ]
  }
 ],
 "metadata": {
  "kernelspec": {
   "display_name": "Python 3 (ipykernel)",
   "language": "python",
   "name": "python3"
  },
  "language_info": {
   "codemirror_mode": {
    "name": "ipython",
    "version": 3
   },
   "file_extension": ".py",
   "mimetype": "text/x-python",
   "name": "python",
   "nbconvert_exporter": "python",
   "pygments_lexer": "ipython3",
   "version": "3.8.12"
  }
 },
 "nbformat": 4,
 "nbformat_minor": 5
}
