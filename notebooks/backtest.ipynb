{
 "cells": [
  {
   "cell_type": "code",
   "execution_count": 11,
   "id": "1b144279-7450-40e5-9d1d-83e056a8be87",
   "metadata": {},
   "outputs": [],
   "source": [
    "import matplotlib.pyplot as plt\n",
    "import seaborn as sns\n",
    "sns.set(context='talk', style='ticks',\n",
    "        color_codes=True, rc={'legend.frameon': False})\n",
    "\n",
    "%matplotlib inline"
   ]
  },
  {
   "cell_type": "code",
   "execution_count": null,
   "id": "a872d205-1e02-4ffa-aa8d-7da84fc878f9",
   "metadata": {},
   "outputs": [],
   "source": [
    "import tensorflow as tf\n",
    "gpus = tf.config.list_physical_devices('GPU')\n",
    "tf.config.set_visible_devices(gpus[0], 'GPU')\n",
    "\n",
    "import tensorflow_addons as tfa"
   ]
  },
  {
   "cell_type": "code",
   "execution_count": null,
   "id": "afe7c025-31c6-4cb1-86c2-8297b1722c6b",
   "metadata": {},
   "outputs": [],
   "source": [
    "import sys\n",
    "sys.path.append('..')"
   ]
  },
  {
   "cell_type": "code",
   "execution_count": null,
   "id": "acc0cf22-78ae-4f84-bf96-ef9708c0383b",
   "metadata": {},
   "outputs": [],
   "source": [
    "best_model = tf.keras.models.load_model('../20220603_icsd_and_battery_combined/best_model/', compile=False)"
   ]
  },
  {
   "cell_type": "code",
   "execution_count": null,
   "id": "5f4778bf-c2b0-4e5d-8bbe-d43553a23a7d",
   "metadata": {},
   "outputs": [],
   "source": [
    "import pandas as pd"
   ]
  },
  {
   "cell_type": "code",
   "execution_count": null,
   "id": "edeef7f5-fcfd-4d83-b7cb-09844f63cce8",
   "metadata": {},
   "outputs": [],
   "source": [
    "backtest_data = pd.read_pickle('/projects/rlmolecule/jlaw/crystal_outputs/2022_05_17_combined.p')"
   ]
  },
  {
   "cell_type": "code",
   "execution_count": 12,
   "id": "385806d2-6bc8-4f3c-8f94-d876028c144e",
   "metadata": {},
   "outputs": [],
   "source": [
    "from preprocess import preprocessor\n",
    "import numpy as np\n",
    "\n",
    "\n",
    "def preprocess_structure(structure):\n",
    "    inputs = preprocessor(structure, train=True)\n",
    "\n",
    "    # scale structures to a minimum of 1A interatomic distance\n",
    "    min_distance = inputs[\"distance\"].min()\n",
    "    if np.isclose(min_distance, 0):\n",
    "        warn(f\"Error with {row.id}\")\n",
    "        return None\n",
    "\n",
    "    scale_factor = 1.0 / inputs[\"distance\"].min()\n",
    "    inputs[\"distance\"] *= scale_factor\n",
    "    inputs[\"input_vol\"] = (structure.volume / structure.num_sites) * scale_factor**3\n",
    "    inputs[\"true_vol\"] = np.nan\n",
    "    return inputs\n",
    "\n",
    "\n",
    "dataset = (\n",
    "    tf.data.Dataset.from_generator(\n",
    "        lambda: (preprocess_structure(struc) for struc in backtest_data.unrel_structure),\n",
    "        output_signature={\n",
    "            **preprocessor.output_signature,\n",
    "            \"input_vol\": tf.TensorSpec(shape=(), dtype=tf.float32),\n",
    "            \"true_vol\": tf.TensorSpec(shape=(), dtype=tf.float32),\n",
    "        },\n",
    "    )\n",
    "    .padded_batch(\n",
    "        batch_size=128,\n",
    "        padding_values={\n",
    "            **preprocessor.padding_values,\n",
    "            \"input_vol\": tf.constant(np.nan, dtype=tf.float32),\n",
    "            \"true_vol\": tf.constant(np.nan, dtype=tf.float32),\n",
    "        },\n",
    "    )\n",
    "    .prefetch(tf.data.experimental.AUTOTUNE)\n",
    ")"
   ]
  },
  {
   "cell_type": "code",
   "execution_count": 13,
   "id": "b7329cb8-596d-4424-9260-cc4fbacaef25",
   "metadata": {},
   "outputs": [
    {
     "name": "stdout",
     "output_type": "stream",
     "text": [
      "11/11 [==============================] - 25s 2s/step\n"
     ]
    }
   ],
   "source": [
    "predictions = best_model.predict(dataset, verbose=1)"
   ]
  },
  {
   "cell_type": "code",
   "execution_count": 14,
   "id": "8da8723f-fa1a-4afc-af2b-dcefe8cc4eca",
   "metadata": {},
   "outputs": [],
   "source": [
    "backtest_data['psj_pred_vol'] = predictions[0].flatten() * backtest_data['unrel_structure'].apply(lambda x: x.num_sites)"
   ]
  },
  {
   "cell_type": "code",
   "execution_count": 15,
   "id": "2cb66f9a-021f-4fe4-b066-7952c9262cb5",
   "metadata": {},
   "outputs": [],
   "source": [
    "backtest_data['psj_pred_energy'] = predictions[1].flatten()"
   ]
  },
  {
   "cell_type": "code",
   "execution_count": 16,
   "id": "0f1738b6-9e41-43fa-a20c-9cfa32f644a8",
   "metadata": {},
   "outputs": [
    {
     "data": {
      "text/plain": [
       "[<matplotlib.lines.Line2D at 0x7f83e21d3730>]"
      ]
     },
     "execution_count": 16,
     "metadata": {},
     "output_type": "execute_result"
    },
    {
     "data": {
      "image/png": "[encoded data removed]",
      "text/plain": [
       "<Figure size 432x288 with 1 Axes>"
      ]
     },
     "metadata": {
      "needs_background": "light"
     },
     "output_type": "display_data"
    }
   ],
   "source": [
    "plt.plot(backtest_data.energyperatom, backtest_data.psj_pred_energy, '.')"
   ]
  },
  {
   "cell_type": "code",
   "execution_count": 17,
   "id": "862e0d41-3c55-411e-94cb-514da8cb6607",
   "metadata": {},
   "outputs": [],
   "source": [
    "import nfp"
   ]
  },
  {
   "cell_type": "code",
   "execution_count": 18,
   "id": "bf4af294-9610-43cf-b067-5954425d6588",
   "metadata": {},
   "outputs": [],
   "source": [
    "from nfp.layers import RBFExpansion"
   ]
  },
  {
   "cell_type": "code",
   "execution_count": 19,
   "id": "fd36d602-0caa-4a67-8182-8e4da9f8f27a",
   "metadata": {},
   "outputs": [],
   "source": [
    "energy_direct_model = tf.keras.models.load_model(\n",
    "    '../20220603_icsd_and_battery/best_model.hdf5',\n",
    "    custom_objects={**nfp.custom_objects, **{'RBFExpansion': RBFExpansion}},\n",
    "    compile=False)\n",
    "\n",
    "def preprocess_energy(structure):\n",
    "    inputs = preprocessor(structure, train=True)\n",
    "\n",
    "    # scale structures to a minimum of 1A interatomic distance\n",
    "    min_distance = inputs[\"distance\"].min()\n",
    "    if np.isclose(min_distance, 0):\n",
    "        warn(f\"Error with {row.id}\")\n",
    "        return None\n",
    "\n",
    "    scale_factor = 1.0 / inputs[\"distance\"].min()\n",
    "    inputs[\"distance\"] *= scale_factor\n",
    "    return inputs\n",
    "\n",
    "\n",
    "dataset = (\n",
    "    tf.data.Dataset.from_generator(\n",
    "        lambda: (preprocess_energy(structure) for structure in backtest_data.unrel_structure),\n",
    "        output_signature=preprocessor.output_signature,\n",
    "    )\n",
    "    .padded_batch(batch_size=128, padding_values=preprocessor.padding_values)\n",
    "    .prefetch(tf.data.experimental.AUTOTUNE)\n",
    ")"
   ]
  },
  {
   "cell_type": "code",
   "execution_count": 20,
   "id": "eda43b0a-99b2-407a-8d9b-f74f1b0bf777",
   "metadata": {},
   "outputs": [
    {
     "name": "stdout",
     "output_type": "stream",
     "text": [
      "11/11 [==============================] - 26s 2s/step\n"
     ]
    }
   ],
   "source": [
    "energy_predictions = energy_direct_model.predict(dataset, verbose=1)"
   ]
  },
  {
   "cell_type": "code",
   "execution_count": 21,
   "id": "86c8d6e8-66c6-4be9-9253-30b53b020093",
   "metadata": {},
   "outputs": [],
   "source": [
    "backtest_data['psj_pred_energy_direct'] = energy_predictions"
   ]
  },
  {
   "cell_type": "code",
   "execution_count": 25,
   "id": "bb93b8b0-083f-4b2f-9942-e41315a16d0e",
   "metadata": {},
   "outputs": [
    {
     "data": {
      "text/html": [
       "<div>\n",
       "<style scoped>\n",
       "    .dataframe tbody tr th:only-of-type {\n",
       "        vertical-align: middle;\n",
       "    }\n",
       "\n",
       "    .dataframe tbody tr th {\n",
       "        vertical-align: top;\n",
       "    }\n",
       "\n",
       "    .dataframe thead th {\n",
       "        text-align: right;\n",
       "    }\n",
       "</style>\n",
       "<table border=\"1\" class=\"dataframe\">\n",
       "  <thead>\n",
       "    <tr style=\"text-align: right;\">\n",
       "      <th></th>\n",
       "      <th>my_err</th>\n",
       "      <th>my_err2</th>\n",
       "      <th>jl_err</th>\n",
       "    </tr>\n",
       "    <tr>\n",
       "      <th>run_id</th>\n",
       "      <th></th>\n",
       "      <th></th>\n",
       "      <th></th>\n",
       "    </tr>\n",
       "  </thead>\n",
       "  <tbody>\n",
       "    <tr>\n",
       "      <th>2022-01-18-run1</th>\n",
       "      <td>0.315099</td>\n",
       "      <td>0.335341</td>\n",
       "      <td>0.342441</td>\n",
       "    </tr>\n",
       "    <tr>\n",
       "      <th>2022-01-21-run2-3</th>\n",
       "      <td>0.316372</td>\n",
       "      <td>0.307951</td>\n",
       "      <td>0.345054</td>\n",
       "    </tr>\n",
       "    <tr>\n",
       "      <th>2022-01-25-run4</th>\n",
       "      <td>2.937766</td>\n",
       "      <td>3.060188</td>\n",
       "      <td>3.194721</td>\n",
       "    </tr>\n",
       "    <tr>\n",
       "      <th>2022-04-26-batt-icsd-vol-combined</th>\n",
       "      <td>1.469706</td>\n",
       "      <td>1.482761</td>\n",
       "      <td>1.486551</td>\n",
       "    </tr>\n",
       "    <tr>\n",
       "      <th>2022-04-27-batt-icsd-vol-combined</th>\n",
       "      <td>0.635307</td>\n",
       "      <td>0.625097</td>\n",
       "      <td>0.617391</td>\n",
       "    </tr>\n",
       "    <tr>\n",
       "      <th>20220504/batt-icsd-volpred-KLiNa</th>\n",
       "      <td>0.053559</td>\n",
       "      <td>0.048379</td>\n",
       "      <td>0.054597</td>\n",
       "    </tr>\n",
       "    <tr>\n",
       "      <th>20220504/batt-volpred-KLiNa</th>\n",
       "      <td>0.398296</td>\n",
       "      <td>0.213140</td>\n",
       "      <td>0.408410</td>\n",
       "    </tr>\n",
       "    <tr>\n",
       "      <th>20220509-rel-energy-cos-dist0.1-eles3-Li</th>\n",
       "      <td>1.649818</td>\n",
       "      <td>1.804963</td>\n",
       "      <td>2.031088</td>\n",
       "    </tr>\n",
       "  </tbody>\n",
       "</table>\n",
       "</div>"
      ],
      "text/plain": [
       "                                            my_err   my_err2    jl_err\n",
       "run_id                                                                \n",
       "2022-01-18-run1                           0.315099  0.335341  0.342441\n",
       "2022-01-21-run2-3                         0.316372  0.307951  0.345054\n",
       "2022-01-25-run4                           2.937766  3.060188  3.194721\n",
       "2022-04-26-batt-icsd-vol-combined         1.469706  1.482761  1.486551\n",
       "2022-04-27-batt-icsd-vol-combined         0.635307  0.625097  0.617391\n",
       "20220504/batt-icsd-volpred-KLiNa          0.053559  0.048379  0.054597\n",
       "20220504/batt-volpred-KLiNa               0.398296  0.213140  0.408410\n",
       "20220509-rel-energy-cos-dist0.1-eles3-Li  1.649818  1.804963  2.031088"
      ]
     },
     "execution_count": 25,
     "metadata": {},
     "output_type": "execute_result"
    }
   ],
   "source": [
    "backtest_data['my_err'] = (backtest_data.energyperatom - backtest_data.psj_pred_energy).abs()\n",
    "backtest_data['my_err2'] = (backtest_data.energyperatom - backtest_data.psj_pred_energy_direct).abs()\n",
    "backtest_data['jl_err'] = (backtest_data.energyperatom - backtest_data.pred_energyperatom).abs()\n",
    "\n",
    "backtest_data.groupby('run_id')[['my_err', 'my_err2', 'jl_err']].mean()"
   ]
  },
  {
   "cell_type": "code",
   "execution_count": null,
   "id": "961473ee-fc0a-473f-ae6f-a8b4f4531895",
   "metadata": {},
   "outputs": [],
   "source": []
  }
 ],
 "metadata": {
  "kernelspec": {
   "display_name": "Python 3 (ipykernel)",
   "language": "python",
   "name": "python3"
  },
  "language_info": {
   "codemirror_mode": {
    "name": "ipython",
    "version": 3
   },
   "file_extension": ".py",
   "mimetype": "text/x-python",
   "name": "python",
   "nbconvert_exporter": "python",
   "pygments_lexer": "ipython3",
   "version": "3.8.12"
  }
 },
 "nbformat": 4,
 "nbformat_minor": 5
}
